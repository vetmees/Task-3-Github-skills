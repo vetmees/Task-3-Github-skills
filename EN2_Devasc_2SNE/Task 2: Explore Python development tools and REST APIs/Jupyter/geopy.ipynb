{
 "cells": [
  {
   "cell_type": "code",
   "execution_count": 2,
   "id": "69e2112c",
   "metadata": {},
   "outputs": [
    {
     "name": "stdout",
     "output_type": "stream",
     "text": [
      "Ville de Bruxelles - Stad Brussel, Brussel-Hoofdstad - Bruxelles-Capitale, Région de Bruxelles-Capitale - Brussels Hoofdstedelijk Gewest, België / Belgique / Belgien\n",
      "(50.8465573, 4.351697)\n"
     ]
    }
   ],
   "source": [
    "from geopy.geocoders import Nominatim\n",
    "geolocator = Nominatim(user_agent=\"http://biasc.be\")\n",
    "city_country = \"Brussels, Belgium\"\n",
    "location = geolocator.geocode(city_country)\n",
    "print(location.address)\n",
    "devnet_lat = location.latitude\n",
    "devnet_lon = location.longitude\n",
    "print((devnet_lat, devnet_lon))"
   ]
  },
  {
   "cell_type": "code",
   "execution_count": null,
   "id": "4764021b",
   "metadata": {},
   "outputs": [],
   "source": []
  }
 ],
 "metadata": {
  "kernelspec": {
   "display_name": "Python 3 (ipykernel)",
   "language": "python",
   "name": "python3"
  },
  "language_info": {
   "codemirror_mode": {
    "name": "ipython",
    "version": 3
   },
   "file_extension": ".py",
   "mimetype": "text/x-python",
   "name": "python",
   "nbconvert_exporter": "python",
   "pygments_lexer": "ipython3",
   "version": "3.8.2"
  }
 },
 "nbformat": 4,
 "nbformat_minor": 5
}
